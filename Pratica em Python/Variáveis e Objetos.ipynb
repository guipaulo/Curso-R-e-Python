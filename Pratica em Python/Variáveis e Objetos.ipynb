{
 "cells": [
  {
   "cell_type": "code",
   "execution_count": 3,
   "id": "b09e09fc-4b99-40fe-a2d5-93a9bdc4d509",
   "metadata": {},
   "outputs": [
    {
     "name": "stdout",
     "output_type": "stream",
     "text": [
      "1\n",
      "3.13\n",
      "Python\n",
      "False\n"
     ]
    }
   ],
   "source": [
    "x = 1\n",
    "print(x)\n",
    "y = 3.13\n",
    "print(y)\n",
    "m = 'Python'\n",
    "print(m)\n",
    "w = True\n",
    "y = False\n",
    "print(y)"
   ]
  },
  {
   "cell_type": "code",
   "execution_count": 5,
   "id": "a026b5a4-1294-45f2-9cb8-091401ae329d",
   "metadata": {},
   "outputs": [
    {
     "name": "stdout",
     "output_type": "stream",
     "text": [
      "30.0\n"
     ]
    }
   ],
   "source": [
    "x = 10\n",
    "y = 20\n",
    "z = 100\n",
    "w = (x+y) * z /100\n",
    "print(w)"
   ]
  },
  {
   "cell_type": "code",
   "execution_count": 6,
   "id": "e2cc5e66-4877-4ea1-8429-6e6440095dcd",
   "metadata": {},
   "outputs": [
    {
     "name": "stdout",
     "output_type": "stream",
     "text": [
      "Esse texto será impresso no console\n",
      "10\n",
      "Texto e duas variáveis:  10 ,  100\n"
     ]
    }
   ],
   "source": [
    "print('Esse texto será impresso no console')\n",
    "print(x)\n",
    "print('Texto e duas variáveis: ', x, ', ', z)"
   ]
  },
  {
   "cell_type": "code",
   "execution_count": 7,
   "id": "a9c860f7-6442-445d-979c-87cde25defa3",
   "metadata": {},
   "outputs": [
    {
     "name": "stdout",
     "output_type": "stream",
     "text": [
      "<class 'int'>\n",
      "<class 'str'>\n"
     ]
    }
   ],
   "source": [
    "print(type(x))\n",
    "print(type(m))"
   ]
  },
  {
   "cell_type": "code",
   "execution_count": 10,
   "id": "78218ffa-9af3-42fe-9798-5138d983212d",
   "metadata": {},
   "outputs": [
    {
     "name": "stdout",
     "output_type": "stream",
     "text": [
      "Informe um valor: \n"
     ]
    },
    {
     "name": "stdin",
     "output_type": "stream",
     "text": [
      " 10\n",
      "Informe um valor: 10\n"
     ]
    }
   ],
   "source": [
    "print('Informe um valor: ')\n",
    "i = input()\n",
    "\n",
    "#ou\n",
    "i = input('Informe um valor:' )"
   ]
  },
  {
   "cell_type": "code",
   "execution_count": 11,
   "id": "63237598-f2d0-4d66-9be7-e175dd2625f3",
   "metadata": {},
   "outputs": [
    {
     "name": "stdin",
     "output_type": "stream",
     "text": [
      "Informe um valor:  20.3\n"
     ]
    },
    {
     "name": "stdout",
     "output_type": "stream",
     "text": [
      "<class 'str'>\n",
      "<class 'float'>\n"
     ]
    }
   ],
   "source": [
    "var = input('Informe um valor: ')\n",
    "print(type(var))\n",
    "var = float(var)\n",
    "print(type(var))"
   ]
  },
  {
   "cell_type": "code",
   "execution_count": null,
   "id": "f3f3820a-896c-479c-9117-0adb84d28326",
   "metadata": {},
   "outputs": [],
   "source": []
  }
 ],
 "metadata": {
  "kernelspec": {
   "display_name": "Python 3 (ipykernel)",
   "language": "python",
   "name": "python3"
  },
  "language_info": {
   "codemirror_mode": {
    "name": "ipython",
    "version": 3
   },
   "file_extension": ".py",
   "mimetype": "text/x-python",
   "name": "python",
   "nbconvert_exporter": "python",
   "pygments_lexer": "ipython3",
   "version": "3.9.13"
  }
 },
 "nbformat": 4,
 "nbformat_minor": 5
}
