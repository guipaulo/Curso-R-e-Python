{
 "cells": [
  {
   "cell_type": "code",
   "execution_count": 8,
   "id": "92eec84b-8680-4218-bb3a-619fadb50821",
   "metadata": {},
   "outputs": [
    {
     "name": "stdout",
     "output_type": "stream",
     "text": [
      "200\n",
      "45\n",
      "2\n",
      "76\n",
      "2.23\n"
     ]
    }
   ],
   "source": [
    "print(abs(-200))\n",
    "lst = [23,2,45,4,2]\n",
    "print(max(lst))\n",
    "print(min(lst))\n",
    "print(sum(lst))\n",
    "print(round(2.2343,2))"
   ]
  },
  {
   "cell_type": "code",
   "execution_count": null,
   "id": "a1872af5-d3ca-496e-8daa-2c2f172571bc",
   "metadata": {},
   "outputs": [],
   "source": []
  }
 ],
 "metadata": {
  "kernelspec": {
   "display_name": "Python 3 (ipykernel)",
   "language": "python",
   "name": "python3"
  },
  "language_info": {
   "codemirror_mode": {
    "name": "ipython",
    "version": 3
   },
   "file_extension": ".py",
   "mimetype": "text/x-python",
   "name": "python",
   "nbconvert_exporter": "python",
   "pygments_lexer": "ipython3",
   "version": "3.9.13"
  }
 },
 "nbformat": 4,
 "nbformat_minor": 5
}
