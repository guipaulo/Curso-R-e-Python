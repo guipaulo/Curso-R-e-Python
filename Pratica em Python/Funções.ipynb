{
 "cells": [
  {
   "cell_type": "code",
   "execution_count": 3,
   "id": "7e36e6db-4329-433e-a581-4eda3328a908",
   "metadata": {},
   "outputs": [
    {
     "name": "stdout",
     "output_type": "stream",
     "text": [
      "Esta é uma função\n"
     ]
    }
   ],
   "source": [
    "def imprime():\n",
    "    print('Esta é uma função')\n",
    "\n",
    "imprime()"
   ]
  },
  {
   "cell_type": "code",
   "execution_count": 4,
   "id": "ca9c3f09-4291-48ee-889b-b2451e707c05",
   "metadata": {},
   "outputs": [
    {
     "name": "stdout",
     "output_type": "stream",
     "text": [
      "Esta é uma função\n"
     ]
    }
   ],
   "source": [
    "def imprime(n):\n",
    "    print (n)\n",
    "\n",
    "imprime('Esta é uma função')"
   ]
  },
  {
   "cell_type": "code",
   "execution_count": 5,
   "id": "9085ba69-d632-4c77-8ddd-7d3527b426dd",
   "metadata": {},
   "outputs": [
    {
     "name": "stdout",
     "output_type": "stream",
     "text": [
      "9\n"
     ]
    }
   ],
   "source": [
    "def potencia(n):\n",
    "    return n*n\n",
    "\n",
    "x = potencia(3)\n",
    "print (x)"
   ]
  },
  {
   "cell_type": "code",
   "execution_count": null,
   "id": "ea42bb52-9ab9-433f-bd7e-810f88d63d26",
   "metadata": {},
   "outputs": [],
   "source": []
  }
 ],
 "metadata": {
  "kernelspec": {
   "display_name": "Python 3 (ipykernel)",
   "language": "python",
   "name": "python3"
  },
  "language_info": {
   "codemirror_mode": {
    "name": "ipython",
    "version": 3
   },
   "file_extension": ".py",
   "mimetype": "text/x-python",
   "name": "python",
   "nbconvert_exporter": "python",
   "pygments_lexer": "ipython3",
   "version": "3.9.13"
  }
 },
 "nbformat": 4,
 "nbformat_minor": 5
}
