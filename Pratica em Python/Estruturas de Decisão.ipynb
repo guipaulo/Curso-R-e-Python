{
 "cells": [
  {
   "cell_type": "code",
   "execution_count": 3,
   "id": "ae92d9bb-f1b7-4a44-96a5-aca77efbeec9",
   "metadata": {},
   "outputs": [
    {
     "name": "stdout",
     "output_type": "stream",
     "text": [
      "Aprovado, parabéns!\n"
     ]
    }
   ],
   "source": [
    "nota = 7\n",
    "if nota >= 7:\n",
    "    print('Aprovado, parabéns!')\n",
    "else:\n",
    "    print('Reprovado')"
   ]
  },
  {
   "cell_type": "code",
   "execution_count": 7,
   "id": "273377c5-e7f4-4f7c-9f1b-131e5bf72e1c",
   "metadata": {},
   "outputs": [
    {
     "name": "stdout",
     "output_type": "stream",
     "text": [
      "Aprovado\n"
     ]
    }
   ],
   "source": [
    "nota = 7\n",
    "if nota <= 4:\n",
    "    print('Reprovado')\n",
    "elif nota > 4 and nota <= 6:\n",
    "    print('Exame')\n",
    "else:\n",
    "    print('Aprovado')"
   ]
  },
  {
   "cell_type": "code",
   "execution_count": null,
   "id": "1077ab85-947e-40c9-a519-6652ea36df83",
   "metadata": {},
   "outputs": [],
   "source": []
  }
 ],
 "metadata": {
  "kernelspec": {
   "display_name": "Python 3 (ipykernel)",
   "language": "python",
   "name": "python3"
  },
  "language_info": {
   "codemirror_mode": {
    "name": "ipython",
    "version": 3
   },
   "file_extension": ".py",
   "mimetype": "text/x-python",
   "name": "python",
   "nbconvert_exporter": "python",
   "pygments_lexer": "ipython3",
   "version": "3.9.13"
  }
 },
 "nbformat": 4,
 "nbformat_minor": 5
}
