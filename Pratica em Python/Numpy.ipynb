{
 "cells": [
  {
   "cell_type": "code",
   "execution_count": 36,
   "id": "8049ec0c-4fc5-4899-b04b-3eb0ee6dff9e",
   "metadata": {},
   "outputs": [],
   "source": [
    "import numpy as np"
   ]
  },
  {
   "cell_type": "code",
   "execution_count": 38,
   "id": "24995946-6ff8-4fc6-833f-4438c6c60a16",
   "metadata": {},
   "outputs": [
    {
     "name": "stdout",
     "output_type": "stream",
     "text": [
      "[12 34 26 23 67]\n"
     ]
    },
    {
     "data": {
      "text/plain": [
       "numpy.ndarray"
      ]
     },
     "execution_count": 38,
     "metadata": {},
     "output_type": "execute_result"
    }
   ],
   "source": [
    "mt = np.array([12,34,26,23,67])\n",
    "print(mt)\n",
    "type(mt)"
   ]
  },
  {
   "cell_type": "code",
   "execution_count": 39,
   "id": "0ec1f601-c831-4381-ada1-16f4ae7e96ae",
   "metadata": {},
   "outputs": [
    {
     "name": "stdout",
     "output_type": "stream",
     "text": [
      "[1. 2. 3.]\n",
      "<class 'numpy.ndarray'>\n",
      "[1 2 3]\n",
      "<class 'numpy.ndarray'>\n"
     ]
    }
   ],
   "source": [
    "mtfloat = np.array([1,2,3], dtype = np.float64)\n",
    "print(mtfloat)\n",
    "print(type(mtfloat))\n",
    "\n",
    "mtint = np.array([1,2,3], dtype = np.int32)\n",
    "print(mtint)\n",
    "print(type(mtint))"
   ]
  },
  {
   "cell_type": "code",
   "execution_count": 40,
   "id": "411094e3-b60a-4a71-9d01-746ec3415ea2",
   "metadata": {},
   "outputs": [
    {
     "name": "stdout",
     "output_type": "stream",
     "text": [
      "[ 1.4      3.6     -5.1      9.42     4.99999]\n",
      "[ 1  3 -5  9  4]\n"
     ]
    }
   ],
   "source": [
    "mtnew = np.array([1.4,3.6,-5.1,9.42,4.99999])\n",
    "print(mtnew)\n",
    "mtnewint = mtnew.astype(np.int32)\n",
    "print(mtnewint)"
   ]
  },
  {
   "cell_type": "code",
   "execution_count": 41,
   "id": "3403c375-f4eb-42da-a507-d06876d57efd",
   "metadata": {},
   "outputs": [
    {
     "name": "stdout",
     "output_type": "stream",
     "text": [
      "[1 2 3 4]\n",
      "[1. 2. 3. 4.]\n"
     ]
    }
   ],
   "source": [
    "mt5 = np.array([1,2,3,4])\n",
    "print(mt5)\n",
    "mt6 = mt5.astype(float)\n",
    "print(mt6)"
   ]
  },
  {
   "cell_type": "code",
   "execution_count": 42,
   "id": "b86d922e-77aa-4e48-a48f-2c97dafc253b",
   "metadata": {},
   "outputs": [
    {
     "name": "stdout",
     "output_type": "stream",
     "text": [
      "[[ 7 58  4]\n",
      " [25 55  5]\n",
      " [85 65 66]]\n"
     ]
    }
   ],
   "source": [
    "mt7 = np.array([[7,58,4], [25,55,5], [85,65,66]])\n",
    "print(mt7)"
   ]
  },
  {
   "cell_type": "code",
   "execution_count": 43,
   "id": "dda23640-9492-43da-bf68-d35b11b4b3b3",
   "metadata": {},
   "outputs": [
    {
     "name": "stdout",
     "output_type": "stream",
     "text": [
      "[[         0 1072693248]\n",
      " [         0 1073741824]\n",
      " [         0 1074266112]]\n",
      "/~/~/~/~/~/~/~/~/~/~/~/~\n",
      "[[0. 0. 0.]\n",
      " [0. 0. 0.]\n",
      " [0. 0. 0.]\n",
      " [0. 0. 0.]]\n",
      "/~/~/~/~/~/~/~/~/~/~/~/~\n",
      "[[1. 1. 1. 1. 1. 1. 1.]\n",
      " [1. 1. 1. 1. 1. 1. 1.]\n",
      " [1. 1. 1. 1. 1. 1. 1.]\n",
      " [1. 1. 1. 1. 1. 1. 1.]\n",
      " [1. 1. 1. 1. 1. 1. 1.]]\n",
      "/~/~/~/~/~/~/~/~/~/~/~/~\n",
      "[[1. 0. 0. 0. 0.]\n",
      " [0. 1. 0. 0. 0.]\n",
      " [0. 0. 1. 0. 0.]\n",
      " [0. 0. 0. 1. 0.]\n",
      " [0. 0. 0. 0. 1.]]\n"
     ]
    }
   ],
   "source": [
    "vazio = np.empty([3,2], dtype = int)\n",
    "print(vazio)\n",
    "print('/~/~/~/~/~/~/~/~/~/~/~/~')\n",
    "zeros = np.zeros([4,3])\n",
    "print(zeros)\n",
    "print('/~/~/~/~/~/~/~/~/~/~/~/~')\n",
    "um = np.ones([5,7])\n",
    "print(um)\n",
    "print('/~/~/~/~/~/~/~/~/~/~/~/~')\n",
    "diagonal = np.eye(5)\n",
    "print(diagonal)"
   ]
  },
  {
   "cell_type": "code",
   "execution_count": 44,
   "id": "26ef2af6-8520-409d-a87b-407973f6bb6b",
   "metadata": {},
   "outputs": [
    {
     "name": "stdout",
     "output_type": "stream",
     "text": [
      "[0.84104922 0.3286051  0.72284744 0.08951859 0.75687807]\n",
      "/~/~/~/~/~/~/~/~/~/~/~/~\n",
      "[-0.27967756 -0.38426688  0.02697463 -0.24316745 -0.18518634]\n",
      "/~/~/~/~/~/~/~/~/~/~/~/~\n",
      "[[3.33307371 6.82861629 8.74261457 0.47371583]\n",
      " [2.76708301 6.02842937 0.78114211 8.0424534 ]\n",
      " [2.5658833  9.36146447 9.159791   1.56540874]]\n"
     ]
    }
   ],
   "source": [
    "ale = np.random.random((5))\n",
    "print(ale)\n",
    "print('/~/~/~/~/~/~/~/~/~/~/~/~')\n",
    "ale2 = np.random.randn((5))\n",
    "print(ale2)\n",
    "print('/~/~/~/~/~/~/~/~/~/~/~/~')\n",
    "ale3 = (10*np.random.random((3,4)))\n",
    "print(ale3)"
   ]
  },
  {
   "cell_type": "code",
   "execution_count": 45,
   "id": "c8d711f9-11bd-46b6-aa7b-6936f78298d2",
   "metadata": {},
   "outputs": [
    {
     "name": "stdout",
     "output_type": "stream",
     "text": [
      "[0.51182162 0.9504637  0.14415961]\n",
      "/~/~/~/~/~/~/~/~/~/~/~/~\n",
      "[[8 9 2 3]\n",
      " [8 4 2 8]\n",
      " [2 4 6 5]]\n"
     ]
    }
   ],
   "source": [
    "gnr = np.random.default_rng(1)\n",
    "ale5 = gnr.random(3)\n",
    "print(ale5)\n",
    "print('/~/~/~/~/~/~/~/~/~/~/~/~')\n",
    "ale6 = gnr.integers(10, size=(3,4))\n",
    "print(ale6)"
   ]
  },
  {
   "cell_type": "code",
   "execution_count": 46,
   "id": "7cf7456d-f47b-4ebf-8edf-348f4363dc72",
   "metadata": {},
   "outputs": [
    {
     "name": "stdout",
     "output_type": "stream",
     "text": [
      "[11 12 21 34 46 56 78 99]\n"
     ]
    }
   ],
   "source": [
    "j = np.array([11,21,34,56,99,99,11,21,46,12,78,34])\n",
    "j = np.unique(j)\n",
    "print(j)"
   ]
  },
  {
   "cell_type": "code",
   "execution_count": 47,
   "id": "766d916b-c8a5-4d97-90d6-477a524b6f7f",
   "metadata": {},
   "outputs": [
    {
     "name": "stdout",
     "output_type": "stream",
     "text": [
      "[[35 65 13]\n",
      " [29 97 23]\n",
      " [43 78 31]]\n",
      "65\n",
      "(3, 3)\n"
     ]
    }
   ],
   "source": [
    "k = np.array([[35,65,13], [29, 97,23], [43,78,31]])\n",
    "print(k)\n",
    "print(k[0][1])\n",
    "print(k.shape)"
   ]
  },
  {
   "cell_type": "code",
   "execution_count": 48,
   "id": "e78d7f0f-2756-40f8-a0cd-0ff92429e291",
   "metadata": {},
   "outputs": [
    {
     "name": "stdout",
     "output_type": "stream",
     "text": [
      "97\n",
      "13\n",
      "414\n",
      "46.0\n",
      "26.34809712715934\n"
     ]
    }
   ],
   "source": [
    "print(k.max())\n",
    "print(k.min())\n",
    "print(k.sum())\n",
    "print(k.mean())\n",
    "print(k.std())"
   ]
  },
  {
   "cell_type": "code",
   "execution_count": 49,
   "id": "fa30d4e1-b5d6-4cae-b1f4-6e3850facca3",
   "metadata": {},
   "outputs": [
    {
     "name": "stdout",
     "output_type": "stream",
     "text": [
      "[1. 2. 3. 4. 5. 6.]\n",
      "[2.71828183e+00 5.45981500e+01 8.10308393e+03 8.88611052e+06\n",
      " 7.20048993e+10 4.31123155e+15]\n"
     ]
    }
   ],
   "source": [
    "k1 = np.array([1,4,9,16,25,36])\n",
    "print(np.sqrt(k1))\n",
    "print(np.exp(k1))"
   ]
  },
  {
   "cell_type": "code",
   "execution_count": 50,
   "id": "80cd96ff-038c-427c-a844-da5f2896eaa8",
   "metadata": {},
   "outputs": [
    {
     "name": "stdout",
     "output_type": "stream",
     "text": [
      "2\n",
      "------\n",
      "[1 2]\n",
      "------\n",
      "[2 3 4 5 6]\n",
      "------\n",
      "[4 5 6]\n"
     ]
    }
   ],
   "source": [
    "m = np.array([1,2,3,4,5,6])\n",
    "print(m[1])\n",
    "print('------')\n",
    "print(m[0:2])\n",
    "print('------')\n",
    "print(m[1:])\n",
    "print('------')\n",
    "print(m[-3:])"
   ]
  },
  {
   "cell_type": "code",
   "execution_count": 53,
   "id": "d2585149-cd57-45b4-9609-75e6e01fc75a",
   "metadata": {},
   "outputs": [
    {
     "name": "stdout",
     "output_type": "stream",
     "text": [
      "[[4 5]\n",
      " [6 1]\n",
      " [7 4]]\n",
      "------\n",
      "[4 5]\n",
      "------\n",
      "[6 1]\n",
      "------\n",
      "[7 4]\n",
      "------\n",
      "[4 6 7]\n",
      "------\n",
      "[5 1 4]\n"
     ]
    }
   ],
   "source": [
    "l = np.array([[4,5], [6,1], [7,4]])\n",
    "print(l)\n",
    "print('------')\n",
    "l_linha_1 = l[0, :]\n",
    "print(l_linha_1)\n",
    "print('------')\n",
    "l_linha_2 = l[1, :]\n",
    "print(l_linha_2)\n",
    "print('------')\n",
    "l_linha_3 = l[2, :]\n",
    "print(l_linha_3)\n",
    "print('------')\n",
    "l_coluna_1 = l[:, 0]\n",
    "print(l_coluna_1)\n",
    "print('------')\n",
    "l_coluna_2 = l[:, 1]\n",
    "print(l_coluna_2)"
   ]
  },
  {
   "cell_type": "code",
   "execution_count": 54,
   "id": "a5ea4e4c-c902-410e-b7e1-6c7df88a7097",
   "metadata": {},
   "outputs": [
    {
     "name": "stdout",
     "output_type": "stream",
     "text": [
      "[[ 6  8]\n",
      " [10 12]]\n",
      "----------\n",
      "[[ 5 12]\n",
      " [21 32]]\n",
      "----------\n",
      "[[3 3]\n",
      " [5 5]\n",
      " [7 7]]\n"
     ]
    }
   ],
   "source": [
    "n = np.array([[1,2], [3,4]])\n",
    "o = np.array([[5,6], [7,8]])\n",
    "res1 = n+o\n",
    "print(res1)\n",
    "print('----------')\n",
    "res2 = n*o\n",
    "print(res2)\n",
    "print('----------')\n",
    "p = np.array([[1,2], [3,4], [5,6]])\n",
    "q = np.array([[2,1]])\n",
    "print(p+q)"
   ]
  },
  {
   "cell_type": "code",
   "execution_count": 58,
   "id": "2016cddd-4eb1-4c10-b9cc-7526d6139a42",
   "metadata": {},
   "outputs": [
    {
     "name": "stdout",
     "output_type": "stream",
     "text": [
      "[[ 0  1  2  3  4]\n",
      " [ 5  6  7  8  9]\n",
      " [10 11 12 13 14]]\n",
      "[[ 0  5 10]\n",
      " [ 1  6 11]\n",
      " [ 2  7 12]\n",
      " [ 3  8 13]\n",
      " [ 4  9 14]]\n",
      "[[ 0  5 10]\n",
      " [ 1  6 11]\n",
      " [ 2  7 12]\n",
      " [ 3  8 13]\n",
      " [ 4  9 14]]\n"
     ]
    }
   ],
   "source": [
    "f = np.arange(15).reshape((3,5))\n",
    "print(f)\n",
    "s = f.T\n",
    "print(s)\n",
    "t = f.transpose(1,0)\n",
    "print(t)"
   ]
  },
  {
   "cell_type": "code",
   "execution_count": null,
   "id": "3bc53f22-e7b5-4038-b92d-4250af7a2430",
   "metadata": {},
   "outputs": [],
   "source": []
  }
 ],
 "metadata": {
  "kernelspec": {
   "display_name": "Python 3 (ipykernel)",
   "language": "python",
   "name": "python3"
  },
  "language_info": {
   "codemirror_mode": {
    "name": "ipython",
    "version": 3
   },
   "file_extension": ".py",
   "mimetype": "text/x-python",
   "name": "python",
   "nbconvert_exporter": "python",
   "pygments_lexer": "ipython3",
   "version": "3.9.13"
  }
 },
 "nbformat": 4,
 "nbformat_minor": 5
}
