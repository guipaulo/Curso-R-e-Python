{
 "cells": [
  {
   "cell_type": "code",
   "execution_count": 21,
   "id": "744949eb-3c03-4456-b064-6004d04f4d11",
   "metadata": {},
   "outputs": [
    {
     "name": "stdout",
     "output_type": "stream",
     "text": [
      "{'João': 6.0, 'Maria': 8.0, 'Pedro': 6.5}\n"
     ]
    }
   ],
   "source": [
    "Notas = {'João': 6.0, 'Maria': 8.0, 'Pedro': 6.5}\n",
    "print(Notas)"
   ]
  },
  {
   "cell_type": "code",
   "execution_count": 22,
   "id": "cb57dbf5-e94f-4c29-a61d-6950d133a1b4",
   "metadata": {},
   "outputs": [
    {
     "name": "stdout",
     "output_type": "stream",
     "text": [
      "6.0\n"
     ]
    }
   ],
   "source": [
    "print(Notas['João'])"
   ]
  },
  {
   "cell_type": "code",
   "execution_count": 23,
   "id": "81023613-7b77-42cf-b915-f08cf7bf2be5",
   "metadata": {},
   "outputs": [
    {
     "data": {
      "text/plain": [
       "dict_keys(['João', 'Maria', 'Pedro'])"
      ]
     },
     "execution_count": 23,
     "metadata": {},
     "output_type": "execute_result"
    }
   ],
   "source": [
    "Notas.keys()"
   ]
  },
  {
   "cell_type": "code",
   "execution_count": 24,
   "id": "c9a35266-8e57-4399-8db1-71bd9aaeca8c",
   "metadata": {},
   "outputs": [
    {
     "data": {
      "text/plain": [
       "dict_values([6.0, 8.0, 6.5])"
      ]
     },
     "execution_count": 24,
     "metadata": {},
     "output_type": "execute_result"
    }
   ],
   "source": [
    "Notas.values()"
   ]
  },
  {
   "cell_type": "code",
   "execution_count": 25,
   "id": "1340c528-f8d2-4bb4-9b4f-95727074e017",
   "metadata": {},
   "outputs": [
    {
     "name": "stdout",
     "output_type": "stream",
     "text": [
      "True\n",
      "False\n"
     ]
    }
   ],
   "source": [
    "print('João' in Notas)\n",
    "print('Fernando' in Notas)"
   ]
  },
  {
   "cell_type": "code",
   "execution_count": 26,
   "id": "7a063491-27d0-4b1a-975b-659951f5e282",
   "metadata": {},
   "outputs": [
    {
     "name": "stdout",
     "output_type": "stream",
     "text": [
      "{'Maria': 8.0, 'Pedro': 6.5}\n"
     ]
    }
   ],
   "source": [
    "del Notas['João']\n",
    "print(Notas)"
   ]
  },
  {
   "cell_type": "code",
   "execution_count": 27,
   "id": "61bece4f-f039-4e48-9afb-18306a8365be",
   "metadata": {},
   "outputs": [
    {
     "name": "stdout",
     "output_type": "stream",
     "text": [
      "{'Maria': 8.0, 'Pedro': 6.5, 'Ana': 9}\n"
     ]
    }
   ],
   "source": [
    "Notas['Ana'] = 9\n",
    "print(Notas)"
   ]
  },
  {
   "cell_type": "code",
   "execution_count": 28,
   "id": "31a8ed17-ca24-4ef2-b66c-efc79e5b27b8",
   "metadata": {},
   "outputs": [
    {
     "data": {
      "text/plain": [
       "'Não encontado'"
      ]
     },
     "execution_count": 28,
     "metadata": {},
     "output_type": "execute_result"
    }
   ],
   "source": [
    "Notas.get('Gerando', 'Não encontado')"
   ]
  },
  {
   "cell_type": "code",
   "execution_count": 29,
   "id": "d275cb1d-4a03-4b1d-a1f7-2c80d8e05644",
   "metadata": {},
   "outputs": [
    {
     "name": "stdout",
     "output_type": "stream",
     "text": [
      "{'Sqoop', 'Spark', 'Hive'}\n"
     ]
    }
   ],
   "source": [
    "bigdata = {'Spark', 'Hive', 'Sqoop'}\n",
    "print(bigdata)"
   ]
  },
  {
   "cell_type": "code",
   "execution_count": 30,
   "id": "d3e781b5-fea4-413a-a1fb-f78ae77ab324",
   "metadata": {},
   "outputs": [
    {
     "name": "stdout",
     "output_type": "stream",
     "text": [
      "True\n"
     ]
    }
   ],
   "source": [
    "print('Spark' in bigdata)"
   ]
  },
  {
   "cell_type": "code",
   "execution_count": 31,
   "id": "3477932e-406d-4467-a913-5846c85d456a",
   "metadata": {},
   "outputs": [
    {
     "data": {
      "text/plain": [
       "{'Hadoop', 'Hive', 'Spark', 'Sqoop'}"
      ]
     },
     "execution_count": 31,
     "metadata": {},
     "output_type": "execute_result"
    }
   ],
   "source": [
    "bigdata.add('Hadoop')\n",
    "bigdata"
   ]
  },
  {
   "cell_type": "code",
   "execution_count": 32,
   "id": "6819238c-42bf-4371-b5cd-d2312012188c",
   "metadata": {},
   "outputs": [
    {
     "name": "stdout",
     "output_type": "stream",
     "text": [
      "4\n"
     ]
    }
   ],
   "source": [
    "print(len(bigdata))"
   ]
  },
  {
   "cell_type": "code",
   "execution_count": 33,
   "id": "d5a6c658-1fcb-4b78-89a8-b8892cf28a43",
   "metadata": {},
   "outputs": [
    {
     "data": {
      "text/plain": [
       "(1, 2, 3, 4, 5, 6, 7)"
      ]
     },
     "execution_count": 33,
     "metadata": {},
     "output_type": "execute_result"
    }
   ],
   "source": [
    "tupla = (1,2,3,4,5,6,7)\n",
    "tupla"
   ]
  },
  {
   "cell_type": "code",
   "execution_count": 34,
   "id": "bbdef0a3-44b2-4290-9b99-583b4fd7b0e5",
   "metadata": {},
   "outputs": [
    {
     "data": {
      "text/plain": [
       "5"
      ]
     },
     "execution_count": 34,
     "metadata": {},
     "output_type": "execute_result"
    }
   ],
   "source": [
    "tupla[4]"
   ]
  },
  {
   "cell_type": "code",
   "execution_count": 35,
   "id": "0bad958f-3b5e-4365-9ed1-6b20d97ef74e",
   "metadata": {},
   "outputs": [
    {
     "name": "stdout",
     "output_type": "stream",
     "text": [
      "<class 'dict'>\n",
      "<class 'set'>\n",
      "<class 'tuple'>\n"
     ]
    }
   ],
   "source": [
    "print(type(Notas))\n",
    "print(type(bigdata))\n",
    "print(type(tupla))"
   ]
  },
  {
   "cell_type": "code",
   "execution_count": null,
   "id": "ae1dd7a8-053c-4cbe-b03e-d06f6944242f",
   "metadata": {},
   "outputs": [],
   "source": []
  }
 ],
 "metadata": {
  "kernelspec": {
   "display_name": "Python 3 (ipykernel)",
   "language": "python",
   "name": "python3"
  },
  "language_info": {
   "codemirror_mode": {
    "name": "ipython",
    "version": 3
   },
   "file_extension": ".py",
   "mimetype": "text/x-python",
   "name": "python",
   "nbconvert_exporter": "python",
   "pygments_lexer": "ipython3",
   "version": "3.9.13"
  }
 },
 "nbformat": 4,
 "nbformat_minor": 5
}
